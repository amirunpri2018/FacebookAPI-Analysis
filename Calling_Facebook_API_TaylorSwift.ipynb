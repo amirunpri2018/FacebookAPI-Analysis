{
 "cells": [
  {
   "cell_type": "code",
   "execution_count": 4,
   "metadata": {
    "scrolled": true
   },
   "outputs": [
    {
     "name": "stdout",
     "output_type": "stream",
     "text": [
      "Collecting facebook-sdk\n",
      "  Downloading facebook-sdk-2.0.0.tar.gz\n",
      "Requirement already satisfied: requests in ./anaconda3/lib/python3.6/site-packages (from facebook-sdk)\n",
      "Requirement already satisfied: chardet<3.1.0,>=3.0.2 in ./anaconda3/lib/python3.6/site-packages (from requests->facebook-sdk)\n",
      "Requirement already satisfied: idna<2.7,>=2.5 in ./anaconda3/lib/python3.6/site-packages (from requests->facebook-sdk)\n",
      "Requirement already satisfied: urllib3<1.23,>=1.21.1 in ./anaconda3/lib/python3.6/site-packages (from requests->facebook-sdk)\n",
      "Requirement already satisfied: certifi>=2017.4.17 in ./anaconda3/lib/python3.6/site-packages (from requests->facebook-sdk)\n",
      "Building wheels for collected packages: facebook-sdk\n",
      "  Running setup.py bdist_wheel for facebook-sdk ... \u001b[?25ldone\n",
      "\u001b[?25h  Stored in directory: /Users/Jessica/Library/Caches/pip/wheels/74/8d/c2/632884cecf25d1a584677403dc4b149563e6336d2cd8d2834c\n",
      "Successfully built facebook-sdk\n",
      "Installing collected packages: facebook-sdk\n",
      "Successfully installed facebook-sdk-2.0.0\n"
     ]
    }
   ],
   "source": [
    "#!pip install facebook-sdk"
   ]
  },
  {
   "cell_type": "code",
   "execution_count": 32,
   "metadata": {
    "collapsed": true
   },
   "outputs": [],
   "source": [
    "token = 'EAAH00e04yJkBAKMzPwAXZAbZBJrdiIFnRr8ZChyHWZCtxNAWdcugZC7c3iu7hk7ZATLtolJaK0j1axcsBbKQEELdPI7CIpIgfqcVd9OA6ASBCZCvQWQa53fzKP6N11c9D19mZBjcPkjjoq4DZCf28k1OwR4HVmlJoOOFkgN2dW6CYcY7QOn6v2cyhQpeiMzQCeSnHhEeAkEWPnwZDZD'\n"
   ]
  },
  {
   "cell_type": "code",
   "execution_count": 33,
   "metadata": {
    "code_folding": []
   },
   "outputs": [
    {
     "name": "stdout",
     "output_type": "stream",
     "text": [
      "{'created_time': '2018-02-14T18:41:00+0000', 'message': 'Happy Valentine’s Day! 💕 We’re celebrating in the online store with new merch packages available now through Sunday, February 18 at 11:59p EST (while supplies last)! \\n\\nShop the Distressed Black Sweatshirt Package and the I Love TS Tee Package here: http://taylor.lk/merch', 'id': '19614945368_10155426872430369'}\n",
      "{'created_time': '2018-02-12T17:29:41+0000', 'message': 'Repu-hearsals 🎶', 'id': '19614945368_10155421490320369'}\n",
      "{'created_time': '2018-02-09T16:15:43+0000', 'message': 'End Game video behind the scenes is out nowww \\nFuture Ed Sheeran', 'id': '19614945368_10155413783385369'}\n",
      "{'created_time': '2018-02-07T21:16:00+0000', 'message': 'LOOK WHAT I DID FOR YOU TODAY Ed Sheeran', 'id': '19614945368_10155409247305369'}\n",
      "{'created_time': '2018-02-05T22:32:19+0000', 'message': 'Songs I’m loving right now 🎶', 'id': '19614945368_10155404963725369'}\n",
      "{'created_time': '2018-02-02T17:04:13+0000', 'message': 'NME voting closes Monday so get your votes in now! https://awards.nme.com', 'story': 'Taylor Swift added 2 new photos.', 'id': '19614945368_10155396692615369'}\n",
      "{'created_time': '2018-01-31T15:01:36+0000', 'message': \"Tickets for the newly added shows on Taylor Swift's reputation Stadium Tour are on sale today at 10a local time! \\n\\nGet tickets here: taylor.lk/repEvents\", 'id': '19614945368_10155391434005369'}\n",
      "{'created_time': '2018-01-23T20:04:39+0000', 'message': 'Shazam \"End Game\" for the chance to win a reputation Prize Pack!', 'id': '19614945368_10155370347575369'}\n",
      "{'created_time': '2018-01-12T19:01:01+0000', 'message': 'The official End Game music video featuring Ed Sheeran and Future is out now.', 'id': '19614945368_10155342588370369'}\n",
      "{'created_time': '2018-01-12T05:35:11+0000', 'message': 'The #EndGameMusicVideo is out now. \\nEd Sheeran // Future \\n\\nWatch it here:\\nApple Music: taylor.lk/EGvideoAM\\nSpotify: taylor.lk/EGvideoSp\\nVevo: taylor.lk/EndGameVideo', 'id': '19614945368_10155341356680369'}\n",
      "{'created_time': '2018-01-11T13:12:22+0000', 'message': 'Tonight at midnight eastern. #EndGameMusicVideo\\nFuture // Ed Sheeran', 'id': '19614945368_10155339625850369'}\n",
      "{'created_time': '2018-01-05T15:19:26+0000', 'message': 'Registration for the Taylor Swift Presale powered by Ticketmaster Verified Fan is now OPEN for the below added shows on Taylor Swift’s reputation Stadium Tour!\\n\\nRegister here: taylor.lk/TSpresale', 'id': '19614945368_10155325682350369'}\n",
      "{'created_time': '2018-01-03T14:02:26+0000', 'message': 'New dates for Taylor Swift’s reputation Stadium Tour have just been announced! Tickets go on sale January 31st at 10am local time. Get more information at taylorswift.com. \\n\\nFans will have the opportunity to purchase tickets in advance of the public on-sale for the added U.S. dates via the Taylor Swift Presale powered by Ticketmaster Verified Fan. Registration opens at 10am EST this Friday, January 5th.\\n\\nFans who register and have been previously verified via Taylor Swift Tix will receive priority access ahead of any new registrants.', 'id': '19614945368_10155320986195369'}\n",
      "{'created_time': '2017-12-23T22:49:46+0000', 'message': '#TheSwiftLife is now available for Android! Get it on Google Play: taylor.lk/TSLGooglePlay', 'id': '19614945368_10155295699470369'}\n",
      "{'created_time': '2017-12-19T17:07:33+0000', 'message': 'Check out a key moment in Taylor writing “This Is Why We Can’t Have Nice Things.” The entire #TaylorSwiftNOW series is available on DIRECTV NOW!', 'story': 'Taylor Swift with AT&T.', 'id': '19614945368_10155286035690369'}\n",
      "{'created_time': '2017-12-17T16:42:38+0000', 'story': \"Taylor Swift shared App Store's video.\", 'id': '19614945368_10155281200795369'}\n",
      "{'created_time': '2017-12-17T03:51:04+0000', 'story': \"Taylor Swift shared App Store's video.\", 'id': '19614945368_10155279993215369'}\n",
      "{'created_time': '2017-12-16T20:19:52+0000', 'message': 'The Swift Life is available for free worldwide in the App Store. See you there! taylor.lk/TSL', 'id': '19614945368_10155279164255369'}\n",
      "{'created_time': '2017-12-15T13:18:45+0000', 'message': '#TheSwiftLife App is available NOW for free in the U.S. App Store for iOS!! 🎉🙏🙌Download it here: http://taylor.lk/TSL', 'id': '19614945368_10155275575905369'}\n",
      "{'created_time': '2017-12-14T01:10:26+0000', 'message': 'I love you guys so much. This was a photo Paul Sidoti took at Capital FM Jingle Bell Ball in London a few days ago. I couldn’t have asked for a better year, all thanks to you. Thanks for all the birthday wishes. Can’t wait to see what 28 will be lIke. See you on tour 😄', 'id': '19614945368_10155271683915369'}\n",
      "{'created_time': '2017-12-13T19:08:42+0000', 'message': 'Watch Taylor test the volume levels singing “Don’t Blame Me\" in her self-shot series available on DIRECTV NOW! #TaylorSwiftNOW', 'story': 'Taylor Swift with AT&T.', 'id': '19614945368_10155271064625369'}\n",
      "{'created_time': '2017-12-13T15:00:50+0000', 'message': 'Taylor Swift’s reputation Stadium Tour tickets are on sale NOW in the U.S. and Canada! Get yours here: http://taylor.lk/ticketmaster', 'id': '19614945368_10155270572955369'}\n",
      "{'created_time': '2017-12-13T03:34:15+0000', 'message': 'Taylor Swift’s reputation Stadium Tour in North America is on sale tomorrow at 10a local time. \\n\\nGet more info here: ticketmaster.com/taylorswift', 'id': '19614945368_10155269324550369'}\n",
      "{'created_time': '2017-12-09T15:04:57+0000', 'message': 'Songs Taylor Likes 2', 'id': '19614945368_10155260206815369'}\n",
      "{'created_time': '2017-12-07T15:13:36+0000', 'message': 'Watch the chorus come together in the song “Getaway Car.” My self-shot series is available on DIRECTV NOW ! #TaylorSwiftNOW', 'story': 'Taylor Swift with AT&T.', 'id': '19614945368_10155255064760369'}\n",
      "{'created_time': '2017-12-07T02:09:31+0000', 'message': '\"...Ready For It?\" (BloodPop® Remix) out now https://taylor.lnk.to/RFIBloodPop', 'id': '19614945368_10155253733970369'}\n",
      "{'created_time': '2017-12-06T15:40:39+0000', 'message': '#TimePOY', 'id': '19614945368_10155252746690369'}\n",
      "{'created_time': '2017-12-04T17:48:09+0000', 'message': 'Thank you Edward Enninful, Mert Alas and Marcus Piggott for your passion, spirit, and contagious laughter on set. Mert and Marcus took these photos for British Vogue and my album photos for reputation, and it’s been such a bonding experience working together so closely and talking so much about what we wanted to make. It’s been a while since I’ve done a magazine cover. I’m really happy my first one back was with such wonderful people.\\n#NewVogue', 'id': '19614945368_10155247273995369'}\n",
      "{'created_time': '2017-12-03T00:10:00+0000', 'message': 'Last night was funnnn. Thank you to everyone who came to KIIS-FM Jingle Ball YOU WERE SO LOUD! \\nAnd dancy. \\nAnd wonderful. \\nPhoto credit: Kevin Mazur', 'story': 'Taylor Swift added 3 new photos.', 'id': '19614945368_10155242663045369'}\n",
      "{'created_time': '2017-12-01T17:18:14+0000', 'message': \"'reputation' on vinyl is now available for pre-order! All pre-orders placed between 12/1/17 - 12/15/17 come with a free REP sticker. \\n\\nPre-order here: taylor.lk/repVinyl\", 'id': '19614945368_10155239085860369'}\n",
      "{'created_time': '2017-11-30T22:46:24+0000', 'id': '19614945368_10155237150595369'}\n",
      "{'created_time': '2017-11-28T17:19:33+0000', 'message': 'The Taylor Swift Tix portal is now closed! Check your email this Saturday for your personalized presale date and time.\\n\\nAlso, due to overwhelming demand, a second show date has been added in select markets. Head to taylorswift.com/events for more information!', 'id': '19614945368_10155230390815369'}\n",
      "{'created_time': '2017-11-28T17:00:16+0000', 'message': 'Every song starts somewhere! See how “King of My Heart” was written in The Making of a Song on DIRECTV NOW only from #TaylorSwiftNOW.', 'story': 'Taylor Swift with AT&T.', 'id': '19614945368_10155230327535369'}\n",
      "{'created_time': '2017-11-27T13:48:46+0000', 'message': 'Cyber Monday only! Get a free Album Cover Phone Stand with orders over $100 AND free shipping in the U.S. until 11:59p EST tonight. \\n\\n\\u202aShop here 👉 taylor.lk/store', 'id': '19614945368_10155227380755369'}\n",
      "{'created_time': '2017-11-24T14:03:07+0000', 'message': 'Black Friday is HERE! Get a FREE REP Phone Stand with all orders over $100 in the online store until 11:59p ET tonight AND get free ground shipping on all U.S. orders\\n\\nShop here 👉 taylor.lk/store', 'id': '19614945368_10155219767140369'}\n",
      "{'created_time': '2017-11-23T14:04:53+0000', 'message': 'New merch was just added to the online store!! To celebrate, you’ll get free ground shipping on U.S. orders!\\n\\nGet it while it’s hot 👉  http://taylor.lk/repstore', 'id': '19614945368_10155217264355369'}\n",
      "{'created_time': '2017-11-22T18:30:50+0000', 'message': \"The Taylor Swift Snake Ring is featured in Entertainment Weekly's 2017 Holiday Gift Guide: For the Music Fan! Check it out here and comment your favorite color 🐍\", 'id': '19614945368_10155215339035369'}\n",
      "{'created_time': '2017-11-20T23:32:45+0000', 'message': '‘reputation’ Magazines Available Worldwide!', 'story': 'Taylor Swift published a note.', 'id': '19614945368_10155210604335369'}\n",
      "{'created_time': '2017-11-19T18:15:18+0000', 'message': \"🎶 Say my name and everything just stops // I don't want you like a best friend 🎶\\n\\n#reputation available now: taylor.lk/reputation-iT\", 'id': '19614945368_10155206720485369'}\n",
      "{'created_time': '2017-11-17T19:42:24+0000', 'message': \"Pre-sale for Taylor Swift's reputation Stadium Tour starts December 5! If you're registered for Taylor Swift Tix, be sure to head back into the portal to set your ticket preferences and get some additional boosts in line! If you're not registered, you still have time: taylor.lk/tickets\", 'id': '19614945368_10155200206230369'}\n",
      "{'created_time': '2017-11-16T14:28:36+0000', 'message': 'TODAY ONLY! Don’t miss out on the chance to get the reputation Magazines for a limited-time price.\\n\\nOrder here: taylor.lk/Target', 'id': '19614945368_10155196638095369'}\n",
      "{'created_time': '2017-11-15T22:44:05+0000', 'message': \"Each physical copy of 'reputation' comes with one of five reversible posters! Try to collect them all! taylor.lk/target\", 'story': 'Taylor Swift added 2 new photos.', 'id': '19614945368_10155194885885369'}\n",
      "{'created_time': '2017-11-15T17:43:04+0000', 'message': \"SANTA CLARA, CA!\\n\\nTaylor Swift’s reputation Stadium Tour is coming to Levi's Stadium on May 12th. Purchase ‘reputation’  to get a boost in line for pre-sale access through the Taylor Swift Tix program: taylor.lk/reputation-iT\\n\\nRedeem your boost here: taylor.lk/ticketmaster\", 'id': '19614945368_10155193637170369'}\n",
      "{'created_time': '2017-11-15T04:20:43+0000', 'message': 'A glimpse into the making of #Delicate. For more, watch “The Making of a Song” available exclusively on #TaylorSwiftNOW. Watch on DIRECTV NOW, only from AT&T.                         \\n                                                                                                                                         Buy #reputation now: taylor.lk/reputation-iT', 'story': 'Taylor Swift with AT&T.', 'id': '19614945368_10155192065830369'}\n",
      "{'created_time': '2017-11-14T20:55:32+0000', 'message': 'Watch the tribute performance of “New Year’s Day” on The Tonight Show Starring Jimmy Fallon.\\n\\nGet #reputation here 👉 taylor.lk/reputation-iT', 'id': '19614945368_10155191184150369'}\n",
      "{'created_time': '2017-11-14T03:37:42+0000', 'message': \"The first round of dates for Taylor Swift's reputation Stadium Tour have been announced! Fans will have the opportunity to purchase tickets in advance of the public on-sale in North America via Taylor Swift Tix powered by Ticketmaster Verified Fan. Registration is open and continues until November 28. taylor.lk/ticketmaster\", 'story': 'Taylor Swift published a tour', 'id': '19614945368_10155189310645369'}\n",
      "{'created_time': '2017-11-13T17:03:33+0000', 'story': 'Taylor Swift added 18 new photos — in New York, New York.', 'id': '19614945368_10155187104135369'}\n",
      "{'created_time': '2017-11-13T17:02:25+0000', 'message': 'Step inside the studio for the recording of #reputation. Watch the premiere of the new series The Making of a Song on #TaylorSwiftNOW. Only from AT&T.', 'story': 'Taylor Swift with AT&T.', 'id': '19614945368_10155187012925369'}\n",
      "{'created_time': '2017-11-11T21:43:47+0000', 'message': '\\u202aTonight.\\u202c\\n\\n\\u202a📷: Mary Ellen Matthews\\u202c', 'id': '19614945368_10155181297010369'}\n",
      "{'created_time': '2017-11-10T04:16:46+0000', 'message': '#reputation is out. Let the games begin. taylor.lk/reputation-iT', 'id': '19614945368_10155176562595369'}\n"
     ]
    },
    {
     "name": "stdout",
     "output_type": "stream",
     "text": [
      "{'created_time': '2017-11-09T22:00:00+0000', 'message': 'Waiting for #reputation like... taylor.lk/reputation-iT', 'story': 'Taylor Swift added 3 new photos.', 'id': '19614945368_10155175630640369'}\n",
      "{'created_time': '2017-11-09T18:21:54+0000', 'message': 'ABC tonight during Scandal #reputation #TGIT', 'id': '19614945368_10155175391740369'}\n",
      "{'created_time': '2017-11-09T00:58:43+0000', 'message': '\\u202aTwo days until #reputation. \\u202c\\n\\u202ataylor.lk/reputation-iT\\u202c', 'id': '19614945368_10155173610375369'}\n",
      "{'created_time': '2017-11-08T19:10:08+0000', 'message': 'Three new behind-the-scenes videos available now.\\n\\nOnly on Apple Music: http://apple.co/BTSvideos', 'id': '19614945368_10155173026770369'}\n",
      "{'created_time': '2017-11-08T15:02:37+0000', 'message': 'Forgot to show you the back of the Target magazines 😂😂😂\\nOn Friday you can get your hands on this quality reading material: taylor.lk/target', 'story': 'Taylor Swift added 2 new photos.', 'id': '19614945368_10155172376085369'}\n",
      "{'created_time': '2017-11-08T03:34:41+0000', 'message': '3 days until #reputation. \\n\\ntaylor.lk/reputation-iT', 'id': '19614945368_10155171105990369'}\n",
      "{'created_time': '2017-11-07T19:56:07+0000', 'message': 'Two unique magazines. Poetry, paintings, lyrics & polaroids. Available Friday: taylor.lk/target', 'id': '19614945368_10155170276635369'}\n",
      "{'created_time': '2017-11-07T13:44:06+0000', 'message': 'Inside the reputation Secret Sessions.', 'id': '19614945368_10155169512475369'}\n",
      "{'created_time': '2017-11-03T12:02:33+0000', 'message': 'The #CallItWhatYouWant lyric video is out now!\\n\\nWatch it here:', 'id': '19614945368_10155159304030369'}\n",
      "{'created_time': '2017-11-03T04:28:11+0000', 'message': '“Call It What You Want” available now. Apple Music\\n\\nPre-order #reputation: http://Taylor.lk/reputation-iT', 'id': '19614945368_10155158486145369'}\n",
      "{'created_time': '2017-11-02T12:29:57+0000', 'message': 'Call It What You Want. Midnight Eastern.', 'id': '19614945368_10155156453100369'}\n",
      "{'created_time': '2017-11-01T15:08:01+0000', 'message': 'A glimpse into the making of #reputation. Here\\'s a video of me writing \"Gorgeous\" on AT&T\\'s Youtube page. \\n#TaylorSwiftNOW', 'story': 'Taylor Swift with AT&T.', 'id': '19614945368_10155154156905369'}\n",
      "{'created_time': '2017-10-28T16:34:34+0000', 'message': 'Less than two weeks until #reputation!! Pre-order now.\\nApple Music', 'id': '19614945368_10155143619920369'}\n",
      "{'created_time': '2017-10-27T22:00:12+0000', 'message': 'Let the games begin... #ReadyForItMusicVideo Facebook Frame available now: taylor.lk/RFICameraEffect', 'id': '19614945368_10155141850970369'}\n",
      "{'created_time': '2017-10-27T04:01:47+0000', 'message': '#ReadyForItMusicVideo', 'id': '19614945368_10155139963105369'}\n",
      "{'created_time': '2017-10-23T14:04:03+0000', 'message': '...Ready For It? Official Music Video out Thursday night. #ReadyForItMusicVideo', 'id': '19614945368_10155130305070369'}\n",
      "{'created_time': '2017-10-20T14:10:07+0000', 'message': 'Watch the \"Gorgeous\" lyric video now:', 'id': '19614945368_10155123176380369'}\n",
      "{'created_time': '2017-10-20T03:43:22+0000', 'message': 'Gorgeous. Out now. Apple Music taylor.lk/reputation-apple', 'id': '19614945368_10155122210955369'}\n",
      "{'created_time': '2017-10-19T16:01:21+0000', 'id': '19614945368_10155120471410369'}\n",
      "{'created_time': '2017-10-19T13:04:21+0000', 'message': 'Who’s planning on having a #reputation listening party?! Send out an Evite invitation to unlock exclusive content: taylor.lk/eviteFB', 'id': '19614945368_10155120130770369'}\n",
      "{'created_time': '2017-10-12T14:01:06+0000', 'message': '🚨 NEW behind-the-scenes videos from #LWYMMD. Check them out on #TaylorSwiftNOW.', 'story': 'Taylor Swift with AT&T.', 'id': '19614945368_10155103170545369'}\n",
      "{'created_time': '2017-10-10T14:01:15+0000', 'message': 'No tricks, only treats.🍬 Watch 2 NEW behind-the-scenes videos from #LWYMMD. Only on #TaylorSwiftNOW.', 'story': 'Taylor Swift with AT&T.', 'id': '19614945368_10155098343280369'}\n",
      "{'created_time': '2017-09-30T18:50:49+0000', 'message': '...Ready For Week 5? ESPN ABC News', 'id': '19614945368_10155074329050369'}\n",
      "{'created_time': '2017-09-29T15:38:32+0000', 'story': 'Taylor Swift shared a link.', 'id': '19614945368_10155071582090369'}\n",
      "{'created_time': '2017-09-29T00:44:16+0000', 'message': 'Now you can get a #TaylorSwiftTix boost for following Taylor on Facebook, Twitter, and Tumblr!💃', 'id': '19614945368_10155070127240369'}\n",
      "{'created_time': '2017-09-27T15:45:54+0000', 'message': 'Go behind-the-scenes of the Stream Co. vault from the #LWYMMDvideo!', 'id': '19614945368_10155066813690369'}\n",
      "{'created_time': '2017-09-27T00:18:48+0000', 'message': 'Check out this brand new behind-the-scenes clip from the \"Look What You Made Me Do\" music video! It\\'s on People now:\\n\\ntaylor.lk/bts', 'id': '19614945368_10155065357075369'}\n",
      "{'created_time': '2017-09-23T20:47:01+0000', 'message': 'ESPN & ABC News are back for week 4!\\n\\n...\\nReady \\nFor \\nIt \\n?\\n\\nTonight’s version:', 'id': '19614945368_10155057907190369'}\n",
      "{'created_time': '2017-09-07T23:01:20+0000', 'message': \"Such a taxing day on set when they're like 'eat some cookie dough' and you're like 'ok I'll make this sacrifice for my art' taylor.lk/tsnbts1\", 'id': '19614945368_10155017467310369'}\n",
      "{'created_time': '2017-09-07T19:18:57+0000', 'message': 'Some real tough questions I had for Olivia. taylor.lk/TSN', 'id': '19614945368_10155016959995369'}\n",
      "{'created_time': '2017-09-07T15:10:34+0000', 'message': '😃☎️ AT&T\\ntaylor.lk/TSN', 'id': '19614945368_10155016250715369'}\n",
      "{'created_time': '2017-09-03T12:05:55+0000', 'message': 'A second glance into #reputation...ready for it? taylor.lk/ReadyForIt-iT', 'id': '19614945368_10155005851245369'}\n",
      "{'created_time': '2017-08-30T17:27:19+0000', 'message': 'A #reputation Facebook frame is now available!\\nAdd it here: taylor.lk/reputationframe', 'id': '19614945368_10154995671745369'}\n",
      "{'created_time': '2017-08-28T15:30:35+0000', 'message': 'ICYMI: The \"Look What You Made Me Do\" music video premiered last night at the VMAs! Watch it here: taylor.lk/LWYMMDvideo', 'id': '19614945368_10154989552110369'}\n",
      "{'created_time': '2017-08-28T00:34:41+0000', 'message': 'The #LWYMMDvideo is out NOW!! Watch it on repeat:', 'id': '19614945368_10154987920660369'}\n",
      "{'created_time': '2017-08-27T16:00:30+0000', 'message': 'Tune in to the Video Music Awards TONIGHT to see the world premiere of the official #LWYMMDvideo!', 'id': '19614945368_10154986814110369'}\n",
      "{'created_time': '2017-08-26T16:23:20+0000', 'message': 'Custom Taylor Swift UPS trucks are on the move starting today in Atlanta, Nashville, and NYC. Post a picture on Twitter & tag #TaylorSwiftDelivery #promo & get a #TaylorSwiftTix boost!', 'id': '19614945368_10154984341890369'}\n",
      "{'created_time': '2017-08-25T20:22:04+0000', 'message': \"Taylor wants to make sure tickets get into the hands of fans instead of scalpers and bots. Register for Ticketmaster's #TaylorSwiftTix for the opportunity to access tickets for future events early!\\n\\nGet the details and register at tickets.taylorswift.com\", 'id': '19614945368_10154982377000369'}\n",
      "{'created_time': '2017-08-25T11:52:39+0000', 'message': 'Official #LWYMMDvideo world premiere. Sunday 8/27 at the Video Music Awards.', 'id': '19614945368_10154981012185369'}\n",
      "{'created_time': '2017-08-25T03:32:31+0000', 'message': '...ready for it? New single #LookWhatYouMadeMeDo out now.\\nPre-order #reputation here: taylor.lk/reputation-iT\\n\\nFind out about tickets and merch at taylorswift.com', 'id': '19614945368_10154979894150369'}\n",
      "{'created_time': '2017-08-23T16:48:49+0000', 'story': 'Taylor Swift added 3 new photos.', 'id': '19614945368_10154975228245369'}\n",
      "{'created_time': '2017-08-23T14:02:05+0000', 'id': '19614945368_10154974761820369'}\n",
      "{'created_time': '2017-08-22T15:04:14+0000', 'id': '19614945368_10154972197810369'}\n",
      "{'created_time': '2017-08-21T15:00:45+0000', 'id': '19614945368_10154969205450369'}\n",
      "{'created_time': '2011-06-29T17:10:09+0000', 'message': 'Taylor is nominated for six 2011 Teen Choice Awards including Female Artist, Country Female, Country Single (\"Mean\"), Love Song (\"Mine\"), Break Up Song (\"Back To December\"), and Red Carpet Fashion Icon! Vote now and every day at http://www.teenchoiceawards.com/signin.aspx', 'id': '19614945368_10150243908530369'}\n"
     ]
    }
   ],
   "source": [
    "import facebook\n",
    "import requests\n",
    "\n",
    "graph = facebook.GraphAPI(access_token= token)\n",
    "\n",
    "def some_action(post):\n",
    "    \"\"\" Here you might want to do something with each post. E.g. grab the\n",
    "    post's message (post['message']) or the post's picture (post['picture']).\n",
    "    In this implementation we just print the post's created time.\n",
    "    \"\"\"\n",
    "    print(post)\n",
    "\n",
    "\n",
    "# You'll need an access token here to do anything.  You can get a temporary one\n",
    "# here: https://developers.facebook.com/tools/explorer/\n",
    "# Look at Bill Gates's profile for this example by using his Facebook id.\n",
    "user = 'TaylorSwift'\n",
    "\n",
    "graph = facebook.GraphAPI(token)\n",
    "profile = graph.get_object(user)\n",
    "posts = graph.get_connections(profile['id'], 'posts')\n",
    "\n",
    "# Wrap this block in a while loop so we can keep paginating requests until\n",
    "# finished.\n",
    "while True:\n",
    "    try:\n",
    "        # Perform some action on each post in the collection we receive from\n",
    "        # Facebook.\n",
    "        [some_action(post=post) for post in posts['data']]\n",
    "        # Attempt to make a request to the next page of data, if it exists.\n",
    "        posts = requests.get(posts['paging']['next']).json()\n",
    "    except KeyError:\n",
    "        # When there are no more pages (['paging']['next']), break from the\n",
    "        # loop and end the script.\n",
    "        break\n"
   ]
  },
  {
   "cell_type": "code",
   "execution_count": null,
   "metadata": {
    "collapsed": true
   },
   "outputs": [],
   "source": []
  }
 ],
 "metadata": {
  "kernelspec": {
   "display_name": "Python 3",
   "language": "python",
   "name": "python3"
  },
  "language_info": {
   "codemirror_mode": {
    "name": "ipython",
    "version": 3
   },
   "file_extension": ".py",
   "mimetype": "text/x-python",
   "name": "python",
   "nbconvert_exporter": "python",
   "pygments_lexer": "ipython3",
   "version": "3.6.4"
  },
  "toc": {
   "nav_menu": {},
   "number_sections": true,
   "sideBar": true,
   "skip_h1_title": false,
   "title_cell": "Table of Contents",
   "title_sidebar": "Contents",
   "toc_cell": false,
   "toc_position": {},
   "toc_section_display": true,
   "toc_window_display": false
  }
 },
 "nbformat": 4,
 "nbformat_minor": 2
}
