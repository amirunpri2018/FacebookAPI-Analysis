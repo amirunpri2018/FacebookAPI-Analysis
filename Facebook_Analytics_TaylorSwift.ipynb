{
 "cells": [
  {
   "cell_type": "markdown",
   "metadata": {},
   "source": [
    " \n",
    " <h1><center>Facebook Analytics -- Taylor Swift Post</center></h1>"
   ]
  },
  {
   "cell_type": "markdown",
   "metadata": {},
   "source": [
    "![facebookanalytics](https://user-images.githubusercontent.com/31974451/36244429-0169d16a-11db-11e8-9edf-abbf53ffe269.png)\n"
   ]
  },
  {
   "cell_type": "markdown",
   "metadata": {
    "toc": true
   },
   "source": [
    "<h1>Table of Contents<span class=\"tocSkip\"></span></h1>\n",
    "<div class=\"toc\"><ul class=\"toc-item\"><li><span><a href=\"#Fetching-data---Calling-Facebook-API\" data-toc-modified-id=\"Fetching-data---Calling-Facebook-API-1\"><span class=\"toc-item-num\">1&nbsp;&nbsp;</span>Fetching data - Calling Facebook API</a></span><ul class=\"toc-item\"><li><span><a href=\"#set-up-token\" data-toc-modified-id=\"set-up-token-1.1\"><span class=\"toc-item-num\">1.1&nbsp;&nbsp;</span>set up token</a></span></li><li><span><a href=\"#store-the-data-in-JASON\" data-toc-modified-id=\"store-the-data-in-JASON-1.2\"><span class=\"toc-item-num\">1.2&nbsp;&nbsp;</span>store the data in JASON</a></span></li></ul></li><li><span><a href=\"#Data-Analysis-&amp;-EDA\" data-toc-modified-id=\"Data-Analysis-&amp;-EDA-2\"><span class=\"toc-item-num\">2&nbsp;&nbsp;</span>Data Analysis &amp; EDA</a></span><ul class=\"toc-item\"><li><span><a href=\"#load-the-data\" data-toc-modified-id=\"load-the-data-2.1\"><span class=\"toc-item-num\">2.1&nbsp;&nbsp;</span>load the data</a></span></li><li><span><a href=\"#check-the-website-for-the-newest-post\" data-toc-modified-id=\"check-the-website-for-the-newest-post-2.2\"><span class=\"toc-item-num\">2.2&nbsp;&nbsp;</span>check the website for the newest post</a></span></li><li><span><a href=\"#counting-top-words\" data-toc-modified-id=\"counting-top-words-2.3\"><span class=\"toc-item-num\">2.3&nbsp;&nbsp;</span>counting top words</a></span></li></ul></li></ul></div>"
   ]
  },
  {
   "cell_type": "code",
   "execution_count": null,
   "metadata": {
    "scrolled": true
   },
   "outputs": [],
   "source": [
    "#!pip install facebook-sdk"
   ]
  },
  {
   "cell_type": "markdown",
   "metadata": {},
   "source": [
    "## Fetching data - Calling Facebook API"
   ]
  },
  {
   "cell_type": "markdown",
   "metadata": {},
   "source": [
    "### set up token"
   ]
  },
  {
   "cell_type": "code",
   "execution_count": 3,
   "metadata": {
    "collapsed": true
   },
   "outputs": [],
   "source": [
    "token = 'EAAH00e04yJkBAJByR5n8lbLebVx7MlTdvpN1ehARHx8EtgFNElqlvoCdZCUUXHu6Jutgmm7AiTs345n07Y1rGWO7ZC38R8f8Ij59PrdOZCmyWXheRlWrMVZBLt0ScFYpnZC9mNZBME0o2Cg1i0xuab9zQZBgZCRnzJ7CGB8cLhNBaAIytvgTOUz51dvAYOMUk9CFbtSmc81HugZDZD'"
   ]
  },
  {
   "cell_type": "code",
   "execution_count": 4,
   "metadata": {
    "code_folding": []
   },
   "outputs": [],
   "source": [
    "import time\n",
    "import pickle\n",
    "import random\n",
    "import facebook\n",
    "import requests\n",
    "\n",
    "graph = facebook.GraphAPI(access_token= token)\n",
    "\n",
    "def some_action(post):\n",
    "    \"\"\" Here you might want to do something with each post. E.g. grab the\n",
    "    post's message (post['message']) or the post's picture (post['picture']).\n",
    "    In this implementation we just print the post's created time.\n",
    "    \"\"\"\n",
    "    return post\n",
    "\n",
    "\n",
    "# You'll need an access token here to do anything.  You can get a temporary one\n",
    "# here: https://developers.facebook.com/tools/explorer/\n",
    "# Look at Taylor Swift's profile for this example by using his Facebook id.\n",
    "user = 'TaylorSwift'\n",
    "\n",
    "graph = facebook.GraphAPI(token)\n",
    "profile = graph.get_object(user)\n",
    "posts = graph.get_connections(profile['id'], 'posts')\n",
    "\n",
    "data=[]\n",
    "#results=requests.get(results['paging']['next']).json()\n",
    "\n",
    "# Wrap this block in a while loop so we can keep paginating requests until\n",
    "# finished.\n",
    "while True:\n",
    "    try:\n",
    "        # Slow down the request, instead of making 20 request per seconds, \n",
    "        # you make one request and sleep for 2 or 5 seonds random number \n",
    "        time.sleep(random.randint(3,6))\n",
    "        data.extend(posts['data'])\n",
    "        # Perform some action on each post in the collection we receive from Facebook.\n",
    "        [some_action(post=post) for post in posts['data']]\n",
    "        # Attempt to make a request to the next page of data, if it exists.\n",
    "        posts = requests.get(posts['paging']['next']).json()\n",
    "    except KeyError:\n",
    "        # When there are no more pages (['paging']['next']), break from the\n",
    "        # loop and end the script.\n",
    "        break\n"
   ]
  },
  {
   "cell_type": "markdown",
   "metadata": {},
   "source": [
    "### store the data in JASON"
   ]
  },
  {
   "cell_type": "code",
   "execution_count": 5,
   "metadata": {},
   "outputs": [],
   "source": [
    "# store the data\n",
    "pickle.dump(data,open(\"ts.pkl\",\"wb\"))"
   ]
  },
  {
   "cell_type": "markdown",
   "metadata": {},
   "source": [
    "## Data Analysis & EDA"
   ]
  },
  {
   "cell_type": "markdown",
   "metadata": {},
   "source": [
    "### load the data"
   ]
  },
  {
   "cell_type": "code",
   "execution_count": 6,
   "metadata": {},
   "outputs": [
    {
     "data": {
      "text/plain": [
       "{'created_time': '2018-02-14T18:41:00+0000',\n",
       " 'id': '19614945368_10155426872430369',\n",
       " 'message': 'Happy Valentine’s Day! 💕 We’re celebrating in the online store with new merch packages available now through Sunday, February 18 at 11:59p EST (while supplies last)! \\n\\nShop the Distressed Black Sweatshirt Package and the I Love TS Tee Package here: http://taylor.lk/merch'}"
      ]
     },
     "execution_count": 6,
     "metadata": {},
     "output_type": "execute_result"
    }
   ],
   "source": [
    "loaded_data= pickle.load(file=open('ts.pkl', 'rb'))\n",
    "loaded_data[0]"
   ]
  },
  {
   "cell_type": "code",
   "execution_count": 7,
   "metadata": {
    "collapsed": true
   },
   "outputs": [],
   "source": [
    "import pandas as pd \n",
    "import string\n",
    "from operator import itemgetter"
   ]
  },
  {
   "cell_type": "code",
   "execution_count": 8,
   "metadata": {
    "collapsed": true
   },
   "outputs": [],
   "source": [
    "df2 = pd.io.json.json_normalize(data=loaded_data)"
   ]
  },
  {
   "cell_type": "code",
   "execution_count": 9,
   "metadata": {},
   "outputs": [
    {
     "data": {
      "text/html": [
       "<div>\n",
       "<style scoped>\n",
       "    .dataframe tbody tr th:only-of-type {\n",
       "        vertical-align: middle;\n",
       "    }\n",
       "\n",
       "    .dataframe tbody tr th {\n",
       "        vertical-align: top;\n",
       "    }\n",
       "\n",
       "    .dataframe thead th {\n",
       "        text-align: right;\n",
       "    }\n",
       "</style>\n",
       "<table border=\"1\" class=\"dataframe\">\n",
       "  <thead>\n",
       "    <tr style=\"text-align: right;\">\n",
       "      <th></th>\n",
       "      <th>created_time</th>\n",
       "      <th>id</th>\n",
       "      <th>message</th>\n",
       "      <th>story</th>\n",
       "    </tr>\n",
       "  </thead>\n",
       "  <tbody>\n",
       "    <tr>\n",
       "      <th>90</th>\n",
       "      <td>2017-08-23T16:48:49+0000</td>\n",
       "      <td>19614945368_10154975228245369</td>\n",
       "      <td>NaN</td>\n",
       "      <td>Taylor Swift added 3 new photos.</td>\n",
       "    </tr>\n",
       "    <tr>\n",
       "      <th>91</th>\n",
       "      <td>2017-08-23T14:02:05+0000</td>\n",
       "      <td>19614945368_10154974761820369</td>\n",
       "      <td>NaN</td>\n",
       "      <td>NaN</td>\n",
       "    </tr>\n",
       "    <tr>\n",
       "      <th>92</th>\n",
       "      <td>2017-08-22T15:04:14+0000</td>\n",
       "      <td>19614945368_10154972197810369</td>\n",
       "      <td>NaN</td>\n",
       "      <td>NaN</td>\n",
       "    </tr>\n",
       "    <tr>\n",
       "      <th>93</th>\n",
       "      <td>2017-08-21T15:00:45+0000</td>\n",
       "      <td>19614945368_10154969205450369</td>\n",
       "      <td>NaN</td>\n",
       "      <td>NaN</td>\n",
       "    </tr>\n",
       "    <tr>\n",
       "      <th>94</th>\n",
       "      <td>2011-06-29T17:10:09+0000</td>\n",
       "      <td>19614945368_10150243908530369</td>\n",
       "      <td>Taylor is nominated for six 2011 Teen Choice A...</td>\n",
       "      <td>NaN</td>\n",
       "    </tr>\n",
       "  </tbody>\n",
       "</table>\n",
       "</div>"
      ],
      "text/plain": [
       "                created_time                             id  \\\n",
       "90  2017-08-23T16:48:49+0000  19614945368_10154975228245369   \n",
       "91  2017-08-23T14:02:05+0000  19614945368_10154974761820369   \n",
       "92  2017-08-22T15:04:14+0000  19614945368_10154972197810369   \n",
       "93  2017-08-21T15:00:45+0000  19614945368_10154969205450369   \n",
       "94  2011-06-29T17:10:09+0000  19614945368_10150243908530369   \n",
       "\n",
       "                                              message  \\\n",
       "90                                                NaN   \n",
       "91                                                NaN   \n",
       "92                                                NaN   \n",
       "93                                                NaN   \n",
       "94  Taylor is nominated for six 2011 Teen Choice A...   \n",
       "\n",
       "                               story  \n",
       "90  Taylor Swift added 3 new photos.  \n",
       "91                               NaN  \n",
       "92                               NaN  \n",
       "93                               NaN  \n",
       "94                               NaN  "
      ]
     },
     "execution_count": 9,
     "metadata": {},
     "output_type": "execute_result"
    }
   ],
   "source": [
    "df2.tail()"
   ]
  },
  {
   "cell_type": "code",
   "execution_count": 10,
   "metadata": {},
   "outputs": [
    {
     "data": {
      "text/plain": [
       "Index(['created_time', 'id', 'message', 'story'], dtype='object')"
      ]
     },
     "execution_count": 10,
     "metadata": {},
     "output_type": "execute_result"
    }
   ],
   "source": [
    "df2.columns"
   ]
  },
  {
   "cell_type": "code",
   "execution_count": 11,
   "metadata": {},
   "outputs": [],
   "source": [
    "df2.rename(columns = {'created_time': 'createdtime'},inplace=True)"
   ]
  },
  {
   "cell_type": "code",
   "execution_count": 12,
   "metadata": {},
   "outputs": [],
   "source": [
    "df2.fillna('', inplace=True)"
   ]
  },
  {
   "cell_type": "code",
   "execution_count": 13,
   "metadata": {},
   "outputs": [],
   "source": [
    "latest_news = df2.sort_values('createdtime', ascending=False)"
   ]
  },
  {
   "cell_type": "code",
   "execution_count": 15,
   "metadata": {},
   "outputs": [],
   "source": [
    "latest_news_id = latest_news[\"id\"]\n",
    "#latest_news_id"
   ]
  },
  {
   "cell_type": "markdown",
   "metadata": {},
   "source": [
    "### check the website for the newest post"
   ]
  },
  {
   "cell_type": "code",
   "execution_count": 18,
   "metadata": {},
   "outputs": [
    {
     "name": "stdout",
     "output_type": "stream",
     "text": [
      "https://www.facebook.com/19614945368_10155426872430369\n",
      "https://www.facebook.com/19614945368_10155421490320369\n",
      "https://www.facebook.com/19614945368_10155413783385369\n",
      "https://www.facebook.com/19614945368_10155409247305369\n",
      "https://www.facebook.com/19614945368_10155404963725369\n",
      "https://www.facebook.com/19614945368_10155396692615369\n",
      "https://www.facebook.com/19614945368_10155391434005369\n",
      "https://www.facebook.com/19614945368_10155370347575369\n",
      "https://www.facebook.com/19614945368_10155342588370369\n",
      "https://www.facebook.com/19614945368_10155341356680369\n",
      "https://www.facebook.com/19614945368_10155339625850369\n",
      "https://www.facebook.com/19614945368_10155325682350369\n",
      "https://www.facebook.com/19614945368_10155320986195369\n",
      "https://www.facebook.com/19614945368_10155295699470369\n",
      "https://www.facebook.com/19614945368_10155286035690369\n",
      "https://www.facebook.com/19614945368_10155281200795369\n",
      "https://www.facebook.com/19614945368_10155279993215369\n",
      "https://www.facebook.com/19614945368_10155279164255369\n",
      "https://www.facebook.com/19614945368_10155275575905369\n",
      "https://www.facebook.com/19614945368_10155271683915369\n",
      "https://www.facebook.com/19614945368_10155271064625369\n",
      "https://www.facebook.com/19614945368_10155270572955369\n",
      "https://www.facebook.com/19614945368_10155269324550369\n",
      "https://www.facebook.com/19614945368_10155260206815369\n",
      "https://www.facebook.com/19614945368_10155255064760369\n",
      "https://www.facebook.com/19614945368_10155253733970369\n",
      "https://www.facebook.com/19614945368_10155252746690369\n",
      "https://www.facebook.com/19614945368_10155247273995369\n",
      "https://www.facebook.com/19614945368_10155242663045369\n",
      "https://www.facebook.com/19614945368_10155239085860369\n",
      "https://www.facebook.com/19614945368_10155237150595369\n",
      "https://www.facebook.com/19614945368_10155230390815369\n",
      "https://www.facebook.com/19614945368_10155230327535369\n",
      "https://www.facebook.com/19614945368_10155227380755369\n",
      "https://www.facebook.com/19614945368_10155219767140369\n",
      "https://www.facebook.com/19614945368_10155217264355369\n",
      "https://www.facebook.com/19614945368_10155215339035369\n",
      "https://www.facebook.com/19614945368_10155210604335369\n",
      "https://www.facebook.com/19614945368_10155206720485369\n",
      "https://www.facebook.com/19614945368_10155200206230369\n",
      "https://www.facebook.com/19614945368_10155196638095369\n",
      "https://www.facebook.com/19614945368_10155194885885369\n",
      "https://www.facebook.com/19614945368_10155193637170369\n",
      "https://www.facebook.com/19614945368_10155192065830369\n",
      "https://www.facebook.com/19614945368_10155191184150369\n",
      "https://www.facebook.com/19614945368_10155189310645369\n",
      "https://www.facebook.com/19614945368_10155187104135369\n",
      "https://www.facebook.com/19614945368_10155187012925369\n",
      "https://www.facebook.com/19614945368_10155181297010369\n",
      "https://www.facebook.com/19614945368_10155176562595369\n",
      "https://www.facebook.com/19614945368_10155175630640369\n",
      "https://www.facebook.com/19614945368_10155175391740369\n",
      "https://www.facebook.com/19614945368_10155173610375369\n",
      "https://www.facebook.com/19614945368_10155173026770369\n",
      "https://www.facebook.com/19614945368_10155172376085369\n",
      "https://www.facebook.com/19614945368_10155171105990369\n",
      "https://www.facebook.com/19614945368_10155170276635369\n",
      "https://www.facebook.com/19614945368_10155169512475369\n",
      "https://www.facebook.com/19614945368_10155159304030369\n",
      "https://www.facebook.com/19614945368_10155158486145369\n",
      "https://www.facebook.com/19614945368_10155156453100369\n",
      "https://www.facebook.com/19614945368_10155154156905369\n",
      "https://www.facebook.com/19614945368_10155143619920369\n",
      "https://www.facebook.com/19614945368_10155141850970369\n",
      "https://www.facebook.com/19614945368_10155139963105369\n",
      "https://www.facebook.com/19614945368_10155130305070369\n",
      "https://www.facebook.com/19614945368_10155123176380369\n",
      "https://www.facebook.com/19614945368_10155122210955369\n",
      "https://www.facebook.com/19614945368_10155120471410369\n",
      "https://www.facebook.com/19614945368_10155120130770369\n",
      "https://www.facebook.com/19614945368_10155103170545369\n",
      "https://www.facebook.com/19614945368_10155098343280369\n",
      "https://www.facebook.com/19614945368_10155074329050369\n",
      "https://www.facebook.com/19614945368_10155071582090369\n",
      "https://www.facebook.com/19614945368_10155070127240369\n",
      "https://www.facebook.com/19614945368_10155066813690369\n",
      "https://www.facebook.com/19614945368_10155065357075369\n",
      "https://www.facebook.com/19614945368_10155057907190369\n",
      "https://www.facebook.com/19614945368_10155017467310369\n",
      "https://www.facebook.com/19614945368_10155016959995369\n",
      "https://www.facebook.com/19614945368_10155016250715369\n",
      "https://www.facebook.com/19614945368_10155005851245369\n",
      "https://www.facebook.com/19614945368_10154995671745369\n",
      "https://www.facebook.com/19614945368_10154989552110369\n",
      "https://www.facebook.com/19614945368_10154987920660369\n",
      "https://www.facebook.com/19614945368_10154986814110369\n",
      "https://www.facebook.com/19614945368_10154984341890369\n",
      "https://www.facebook.com/19614945368_10154982377000369\n",
      "https://www.facebook.com/19614945368_10154981012185369\n",
      "https://www.facebook.com/19614945368_10154979894150369\n",
      "https://www.facebook.com/19614945368_10154975228245369\n",
      "https://www.facebook.com/19614945368_10154974761820369\n",
      "https://www.facebook.com/19614945368_10154972197810369\n",
      "https://www.facebook.com/19614945368_10154969205450369\n",
      "https://www.facebook.com/19614945368_10150243908530369\n"
     ]
    }
   ],
   "source": [
    "for i,x in latest_news_id.iteritems():\n",
    "    print('https://www.facebook.com/' + x)"
   ]
  },
  {
   "cell_type": "markdown",
   "metadata": {},
   "source": [
    "### counting top words"
   ]
  },
  {
   "cell_type": "code",
   "execution_count": 19,
   "metadata": {},
   "outputs": [
    {
     "data": {
      "text/plain": [
       "'!\"#$%&\\'()*+,-./:;<=>?@[\\\\]^_`{|}~'"
      ]
     },
     "execution_count": 19,
     "metadata": {},
     "output_type": "execute_result"
    }
   ],
   "source": [
    "string.punctuation"
   ]
  },
  {
   "cell_type": "code",
   "execution_count": 20,
   "metadata": {},
   "outputs": [],
   "source": [
    "def count_words(df):\n",
    "    mapping = dict.fromkeys(map(ord, string.punctuation))\n",
    "    stop_words=[\"a\",\"about\",\"above\",\"after\",\"again\",\"against\",\"all\",\"am\",\"an\",\"and\",\"any\",\n",
    "                \"are\",\"now\",\"aren't\",\"as\",\"at\",\"be\",\"because\",\"been\",\"before\",\"being\",\"below\",\n",
    "                \"between\",\"both\",\"but\",\"by\",\"can't\",\"cannot\",\"could\",\"couldn't\",\"did\",\"didn't\",\n",
    "                \"do\",\"does\",\"doesn't\",\"doing\",\"don't\",\"down\",\"due\",\"during\",\"each\",\"few\",\"for\",\"from\",\n",
    "                \"further\",\"had\",\"hadn't\",\"has\",\"hasn't\",\"have\",\"haven't\",\"having\",\"he\",\"he'd\",\n",
    "                \"he'll\",\"he's\",\"her\",\"here\",\"here's\",\"hers\",\"herself\",\"him\",\"himself\",\"his\",\"how\",\n",
    "                \"how's\",\"i\",\"i'd\",\"i'll\",\"i'm\",\"i've\",\"if\",\"in\",\"into\",\"is\",\"isn't\",\"it\",\"it's\",\n",
    "                \"its\",\"itself\",\"let's\",\"me\",\"more\",\"most\",\"mustn't\",\"my\",\"myself\",\"no\",\"nor\",\"not\",\n",
    "                \"of\",\"off\",\"on\",\"once\",\"only\",\"or\",\"other\",\"ought\",\"our\",\"ours\",\"ourselves\",\"out\",\n",
    "                \"over\",\"own\",\"same\",\"shan't\",\"she\",\"she'd\",\"she'll\",\"she's\",\"should\",\"shouldn't\",\"so\",\n",
    "                \"some\",\"such\",\"than\",\"that\",\"that's\",\"the\",\"their\",\"theirs\",\"them\",\"themselves\",\"then\",\n",
    "                \"there\",\"there's\",\"these\",\"they\",\"they'd\",\"they'll\",\"they're\",\"they've\",\"this\",\"those\",\n",
    "                \"through\",\"to\",\"too\",\"under\",\"until\",\"up\",\"very\",\"was\",\"wasn't\",\"we\",\"we'd\",\"we'll\",\n",
    "                \"we're\",\"we've\",\"were\",\"weren't\",\"what\",\"what's\",\"when\",\"when's\",\"where\",\"where's\",\n",
    "                \"which\",\"while\",\"who\",\"who's\",\"whom\",\"why\",\"why's\",\"with\",\"won't\",\"would\",\"wouldn't\",\n",
    "                \"you\",\"you'd\",\"you'll\",\"you're\",\"you've\",\"your\",'guys','just','day',\"yours\",\"yourself\",\n",
    "                \"yourselves\",\"will\",\"ana\",\"isa\",\"can\",\"hwa\",\"wala\",\"msh\",\"wla\",\"hya\",\"will\",'enta','7aga',\n",
    "                'mesh','dah','bas','elly','b2a','3ala','alf','enty','3al',]\n",
    "    space = [' ']\n",
    "    words = {}\n",
    "    \n",
    "    for m in df2['message']:\n",
    "        try:\n",
    "            seperated_words = m.split(' ')\n",
    "        except:\n",
    "            pass\n",
    "        for word in seperated_words:\n",
    "            word = word.strip()\n",
    "            word = word.lower()\n",
    "            #remove any punctuation\n",
    "            word = word.translate(mapping)\n",
    "            if word in stop_words:\n",
    "                continue\n",
    "            if word in space:\n",
    "                continue\n",
    "            if len(word)<3:\n",
    "                continue\n",
    "            if word in words:\n",
    "                words[word]+=1\n",
    "            else:\n",
    "                words[word]=1\n",
    "    print(\"done counting words\")\n",
    "    return words"
   ]
  },
  {
   "cell_type": "code",
   "execution_count": 21,
   "metadata": {},
   "outputs": [
    {
     "name": "stdout",
     "output_type": "stream",
     "text": [
      "done counting words\n"
     ]
    }
   ],
   "source": [
    "words = count_words(df2)\n",
    "# words"
   ]
  },
  {
   "cell_type": "code",
   "execution_count": 23,
   "metadata": {},
   "outputs": [
    {
     "data": {
      "text/html": [
       "<div>\n",
       "<style scoped>\n",
       "    .dataframe tbody tr th:only-of-type {\n",
       "        vertical-align: middle;\n",
       "    }\n",
       "\n",
       "    .dataframe tbody tr th {\n",
       "        vertical-align: top;\n",
       "    }\n",
       "\n",
       "    .dataframe thead th {\n",
       "        text-align: right;\n",
       "    }\n",
       "</style>\n",
       "<table border=\"1\" class=\"dataframe\">\n",
       "  <thead>\n",
       "    <tr style=\"text-align: right;\">\n",
       "      <th></th>\n",
       "      <th>word</th>\n",
       "      <th>count</th>\n",
       "    </tr>\n",
       "  </thead>\n",
       "  <tbody>\n",
       "    <tr>\n",
       "      <th>52</th>\n",
       "      <td>reputation</td>\n",
       "      <td>28</td>\n",
       "    </tr>\n",
       "    <tr>\n",
       "      <th>50</th>\n",
       "      <td>taylor</td>\n",
       "      <td>22</td>\n",
       "    </tr>\n",
       "    <tr>\n",
       "      <th>43</th>\n",
       "      <td>get</td>\n",
       "      <td>17</td>\n",
       "    </tr>\n",
       "    <tr>\n",
       "      <th>9</th>\n",
       "      <td>available</td>\n",
       "      <td>15</td>\n",
       "    </tr>\n",
       "    <tr>\n",
       "      <th>66</th>\n",
       "      <td>music</td>\n",
       "      <td>11</td>\n",
       "    </tr>\n",
       "    <tr>\n",
       "      <th>69</th>\n",
       "      <td>watch</td>\n",
       "      <td>11</td>\n",
       "    </tr>\n",
       "    <tr>\n",
       "      <th>6</th>\n",
       "      <td>new</td>\n",
       "      <td>10</td>\n",
       "    </tr>\n",
       "    <tr>\n",
       "      <th>79</th>\n",
       "      <td>swift</td>\n",
       "      <td>10</td>\n",
       "    </tr>\n",
       "    <tr>\n",
       "      <th>27</th>\n",
       "      <td>video</td>\n",
       "      <td>10</td>\n",
       "    </tr>\n",
       "    <tr>\n",
       "      <th>46</th>\n",
       "      <td>tickets</td>\n",
       "      <td>9</td>\n",
       "    </tr>\n",
       "    <tr>\n",
       "      <th>128</th>\n",
       "      <td>taylorswiftnow</td>\n",
       "      <td>9</td>\n",
       "    </tr>\n",
       "    <tr>\n",
       "      <th>53</th>\n",
       "      <td>stadium</td>\n",
       "      <td>9</td>\n",
       "    </tr>\n",
       "    <tr>\n",
       "      <th>54</th>\n",
       "      <td>tour</td>\n",
       "      <td>8</td>\n",
       "    </tr>\n",
       "    <tr>\n",
       "      <th>132</th>\n",
       "      <td>free</td>\n",
       "      <td>8</td>\n",
       "    </tr>\n",
       "    <tr>\n",
       "      <th>301</th>\n",
       "      <td>taylorlkreputationit</td>\n",
       "      <td>6</td>\n",
       "    </tr>\n",
       "    <tr>\n",
       "      <th>74</th>\n",
       "      <td>tonight</td>\n",
       "      <td>6</td>\n",
       "    </tr>\n",
       "    <tr>\n",
       "      <th>179</th>\n",
       "      <td>song</td>\n",
       "      <td>6</td>\n",
       "    </tr>\n",
       "    <tr>\n",
       "      <th>48</th>\n",
       "      <td>added</td>\n",
       "      <td>5</td>\n",
       "    </tr>\n",
       "    <tr>\n",
       "      <th>32</th>\n",
       "      <td>sheeran</td>\n",
       "      <td>5</td>\n",
       "    </tr>\n",
       "    <tr>\n",
       "      <th>108</th>\n",
       "      <td>tix</td>\n",
       "      <td>5</td>\n",
       "    </tr>\n",
       "  </tbody>\n",
       "</table>\n",
       "</div>"
      ],
      "text/plain": [
       "                     word  count\n",
       "52             reputation     28\n",
       "50                 taylor     22\n",
       "43                    get     17\n",
       "9               available     15\n",
       "66                  music     11\n",
       "69                  watch     11\n",
       "6                     new     10\n",
       "79                  swift     10\n",
       "27                  video     10\n",
       "46                tickets      9\n",
       "128        taylorswiftnow      9\n",
       "53                stadium      9\n",
       "54                   tour      8\n",
       "132                  free      8\n",
       "301  taylorlkreputationit      6\n",
       "74                tonight      6\n",
       "179                  song      6\n",
       "48                  added      5\n",
       "32                sheeran      5\n",
       "108                   tix      5"
      ]
     },
     "execution_count": 23,
     "metadata": {},
     "output_type": "execute_result"
    }
   ],
   "source": [
    "words_df = pd.DataFrame(list(words.items()), columns=['word','count'])\n",
    "words_df.sort_values('count', ascending=False, inplace=True)\n",
    "words_df.head(20)"
   ]
  },
  {
   "cell_type": "code",
   "execution_count": 29,
   "metadata": {},
   "outputs": [
    {
     "data": {
      "text/plain": [
       "<matplotlib.axes._subplots.AxesSubplot at 0x1132577f0>"
      ]
     },
     "execution_count": 29,
     "metadata": {},
     "output_type": "execute_result"
    },
    {
     "data": {
      "image/png": "[encoded data removed]",
      "text/plain": [
       "<matplotlib.figure.Figure at 0x11304cfd0>"
      ]
     },
     "metadata": {},
     "output_type": "display_data"
    }
   ],
   "source": [
    "%matplotlib inline\n",
    "words_df[words_df['count']>3].plot(x = 'word', kind = \"bar\")"
   ]
  },
  {
   "cell_type": "code",
   "execution_count": null,
   "metadata": {
    "collapsed": true
   },
   "outputs": [],
   "source": []
  }
 ],
 "metadata": {
  "kernelspec": {
   "display_name": "Python 3",
   "language": "python",
   "name": "python3"
  },
  "language_info": {
   "codemirror_mode": {
    "name": "ipython",
    "version": 3
   },
   "file_extension": ".py",
   "mimetype": "text/x-python",
   "name": "python",
   "nbconvert_exporter": "python",
   "pygments_lexer": "ipython3",
   "version": "3.6.4"
  },
  "toc": {
   "nav_menu": {},
   "number_sections": true,
   "sideBar": true,
   "skip_h1_title": true,
   "title_cell": "Table of Contents",
   "title_sidebar": "Contents",
   "toc_cell": true,
   "toc_position": {},
   "toc_section_display": true,
   "toc_window_display": false
  }
 },
 "nbformat": 4,
 "nbformat_minor": 2
}
